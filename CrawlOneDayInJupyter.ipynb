{
 "cells": [
  {
   "cell_type": "code",
   "execution_count": 77,
   "metadata": {},
   "outputs": [
    {
     "name": "stdout",
     "output_type": "stream",
     "text": [
      "   StockSymbol CompanyName StockExchangePlace      Open      High       Low  \\\n",
      "1       1301-T         �ɗm            ����1��   3130.00   3140.00   3110.00   \n",
      "2       1305-T      ETFTPX               ����   1675.00   1683.00   1672.00   \n",
      "3       1306-T     TOPIX��               ����   1652.00   1661.00   1648.00   \n",
      "4       1308-T      ���TPX               ����   1637.00   1645.00   1634.00   \n",
      "5       1309-T     ���50�A               ����  27150.00  27270.00  27040.00   \n",
      "6       1310-T  ETF��R�A30               ����    726.00    727.00    724.00   \n",
      "7       1311-T     TOPIX30               ����    741.00    743.00    740.00   \n",
      "8       1312-T  RN���^�R�A               ����  19730.00  19770.00  19730.00   \n",
      "9       1313-T    KODEX200               ����       NaN       NaN       NaN   \n",
      "10      1314-T      ���V��               ����       NaN       NaN       NaN   \n",
      "\n",
      "       Close      Vol      Amount  \n",
      "1    3130.00    25800    80734000  \n",
      "2    1677.00   307900   516245800  \n",
      "3    1655.00  3106560  5137703740  \n",
      "4    1638.00   321200   526074700  \n",
      "5   27160.00      466    12660380  \n",
      "6     724.00    13520     9800440  \n",
      "7     742.00     1520     1126550  \n",
      "8   19770.00       12      236840  \n",
      "9        NaN        0           0  \n",
      "10       NaN        0           0  \n",
      "Correct, go on.\n"
     ]
    }
   ],
   "source": [
    "#-*- coding: utf-8 -*-\n",
    "import urllib2\n",
    "import pandas as pd\n",
    "import datetime\n",
    "import os\n",
    "\n",
    "#target = \"~/3python/jpStockCrawler/stocks_2017-06-16.csv\"\n",
    "\n",
    "\n",
    "\n",
    "target = \"http://k-db.com/stocks/?download=csv\"\n",
    "\n",
    "#csvFile = urllib2.urlopen(target)\n",
    "#csvFile1 = csvFile.read()\n",
    "#s = csvFile1.decode('utf8')\n",
    "\n",
    "chtNameList = [\"個股代號\", \"日文名稱\", \"交易所在\", \"開盤\", \"最高\", \"最低\", \"收盤\" , \"成交株數\", \"成交金額\"]\n",
    "\n",
    "engNameList = [\"StockSymbol\", \"CompanyName\", \"StockExchangePlace\", \"Open\", \"High\", \"Low\",\"Close\", \"Vol\" ,\"Amount\"]\n",
    "rawFile = pd.read_csv(target, names = engNameList)\n",
    "\n",
    "rawFile = rawFile[1:]  #一定要把第一行去掉，因為我們加了自己的 header 所以要去掉\n",
    "\n",
    "\n",
    "print rawFile[:10]  #檢查一下第一行是不是 1301-T\n",
    "\n",
    "judgeFlag = \"1301-T\"\n",
    "\n",
    "test = rawFile[\"StockSymbol\"][1]\n",
    "#print test\n",
    "\n",
    "if judgeFlag == test:\n",
    "    print (\"Correct, go on.\")\n",
    "else:\n",
    "    print (\"Something wrong. First item should be 1301-T\")\n",
    "\n",
    "#print s\n"
   ]
  },
  {
   "cell_type": "code",
   "execution_count": 78,
   "metadata": {},
   "outputs": [
    {
     "name": "stdout",
     "output_type": "stream",
     "text": [
      "12    1319-S\n",
      "13    1319-F\n",
      "14    1320-T\n",
      "15    1321-T\n",
      "16    1322-T\n",
      "17    1323-T\n",
      "18    1324-T\n",
      "19    1325-T\n",
      "20    1326-T\n",
      "Name: StockSymbol, dtype: object\n"
     ]
    }
   ],
   "source": [
    "companyList = rawFile[rawFile.columns[0]]\n",
    "\n",
    "#q = pd.Series([s])\n",
    "rawCompanyCsvPath = \"~/1save/JpStock/CompanyNameList\" \n",
    "\n",
    "todayStr = datetime.datetime.today().strftime('%Y-%m-%d')\n",
    "fileName = \"CompanyNameList_\" + todayStr + \".csv\"\n",
    "\n",
    "rawFilePath = os.path.join(rawCompanyCsvPath, fileName)\n",
    "\n",
    "print s[11:20]\n",
    "\n",
    "companyList.to_csv(rawFilePath ,index=False , encoding=\"utf-8\")\n",
    "\n",
    "\n"
   ]
  },
  {
   "cell_type": "code",
   "execution_count": 79,
   "metadata": {},
   "outputs": [
    {
     "name": "stdout",
     "output_type": "stream",
     "text": [
      "   StockSymbol      Open      High       Low     Close      Vol      Amount\n",
      "1       1301-T   3130.00   3140.00   3110.00   3130.00    25800    80734000\n",
      "2       1305-T   1675.00   1683.00   1672.00   1677.00   307900   516245800\n",
      "3       1306-T   1652.00   1661.00   1648.00   1655.00  3106560  5137703740\n",
      "4       1308-T   1637.00   1645.00   1634.00   1638.00   321200   526074700\n",
      "5       1309-T  27150.00  27270.00  27040.00  27160.00      466    12660380\n",
      "6       1310-T    726.00    727.00    724.00    724.00    13520     9800440\n",
      "7       1311-T    741.00    743.00    740.00    742.00     1520     1126550\n",
      "8       1312-T  19730.00  19770.00  19730.00  19770.00       12      236840\n",
      "9       1313-T       NaN       NaN       NaN       NaN        0           0\n",
      "10      1314-T       NaN       NaN       NaN       NaN        0           0\n"
     ]
    }
   ],
   "source": [
    "rawDailyTick = rawFile.copy()\n",
    "\n",
    "# df.drop(df.columns[[0,1,3]], axis=1, inplace=True)\n",
    "#ss = rawDailyTick.drop(rawDailyTick.columns[[1,2]], axis=1, inplace=True)\n",
    "\n",
    "rawDailyTick.pop(engNameList[1])  #用list 砍掉 col 比較安全\n",
    "rawDailyTick.pop(engNameList[2])  #這兩個 col 會有日文，目前我無法轉掉亂碼\n",
    "\n",
    "print(rawDailyTick[:10])\n",
    "\n",
    "rawDailyTickPath = \"~/1save/JpStock/RawDailyTick\"\n",
    "dailyTickFileName = \"RawDailyTick_\" + todayStr + \".csv\"\n",
    "\n",
    "rawFilePath = os.path.join(rawDailyTickPath, dailyTickFileName)\n",
    "\n",
    "rawDailyTick.to_csv(rawFilePath ,index=False , encoding=\"utf-8\")\n"
   ]
  }
 ],
 "metadata": {
  "kernelspec": {
   "display_name": "Python 2",
   "language": "python",
   "name": "python2"
  },
  "language_info": {
   "codemirror_mode": {
    "name": "ipython",
    "version": 2
   },
   "file_extension": ".py",
   "mimetype": "text/x-python",
   "name": "python",
   "nbconvert_exporter": "python",
   "pygments_lexer": "ipython2",
   "version": "2.7.13"
  }
 },
 "nbformat": 4,
 "nbformat_minor": 2
}
