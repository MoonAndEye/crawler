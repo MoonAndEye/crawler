{
 "cells": [
  {
   "cell_type": "code",
   "execution_count": 1,
   "metadata": {},
   "outputs": [
    {
     "name": "stdout",
     "output_type": "stream",
     "text": [
      "   StockSymbol CompanyName StockExchangePlace      Open      High       Low  \\\n",
      "1       1301-T         �ɗm            ����1��   3125.00   3175.00   3120.00   \n",
      "2       1305-T      ETFTPX               ����   1677.00   1689.00   1677.00   \n",
      "3       1306-T     TOPIX��               ����   1656.00   1665.00   1653.00   \n",
      "4       1308-T      ���TPX               ����   1639.00   1649.00   1638.00   \n",
      "5       1309-T     ���50�A               ����  27400.00  27550.00  27210.00   \n",
      "6       1310-T  ETF��R�A30               ����    729.00    729.00    728.00   \n",
      "7       1311-T     TOPIX30               ����    742.00    746.00    742.00   \n",
      "8       1312-T  RN���^�R�A               ����  19960.00  19960.00  19960.00   \n",
      "9       1313-T    KODEX200               ����   2924.00   2924.00   2924.00   \n",
      "10      1314-T      ���V��               ����       NaN       NaN       NaN   \n",
      "\n",
      "       Close      Vol      Amount  \n",
      "1    3150.00    40700   128396500  \n",
      "2    1686.00    93930   158349470  \n",
      "3    1664.00  2383400  3959104700  \n",
      "4    1647.00   310000   510064500  \n",
      "5   27550.00      151     4146030  \n",
      "6     729.00       40       29150  \n",
      "7     746.00     4640     3452830  \n",
      "8   19960.00        1       19960  \n",
      "9    2924.00       50      146200  \n",
      "10       NaN        0           0  \n",
      "Correct, go on.\n"
     ]
    }
   ],
   "source": [
    "#-*- coding: utf-8 -*-\n",
    "import urllib2\n",
    "import pandas as pd\n",
    "import datetime\n",
    "import os\n",
    "\n",
    "#target = \"~/3python/jpStockCrawler/stocks_2017-06-16.csv\"\n",
    "\n",
    "\n",
    "\n",
    "target = \"http://k-db.com/stocks/?download=csv\"\n",
    "\n",
    "#csvFile = urllib2.urlopen(target)\n",
    "#csvFile1 = csvFile.read()\n",
    "#s = csvFile1.decode('utf8')\n",
    "\n",
    "chtNameList = [\"個股代號\", \"日文名稱\", \"交易所在\", \"開盤\", \"最高\", \"最低\", \"收盤\" , \"成交株數\", \"成交金額\"]\n",
    "\n",
    "engNameList = [\"StockSymbol\", \"CompanyName\", \"StockExchangePlace\", \"Open\", \"High\", \"Low\",\"Close\", \"Vol\" ,\"Amount\"]\n",
    "rawFile = pd.read_csv(target, names = engNameList)\n",
    "\n",
    "rawFile = rawFile[1:]  #一定要把第一行去掉，因為我們加了自己的 header 所以要去掉\n",
    "\n",
    "\n",
    "print rawFile[:10]  #檢查一下第一行是不是 1301-T\n",
    "\n",
    "judgeFlag = \"1301-T\"\n",
    "\n",
    "test = rawFile[\"StockSymbol\"][1]\n",
    "#print test\n",
    "\n",
    "if judgeFlag == test:\n",
    "    print (\"Correct, go on.\")\n",
    "else:\n",
    "    print (\"Something wrong. First item should be 1301-T\")\n",
    "\n",
    "#print s\n"
   ]
  },
  {
   "cell_type": "code",
   "execution_count": 3,
   "metadata": {},
   "outputs": [
    {
     "name": "stdout",
     "output_type": "stream",
     "text": [
      "finished\n"
     ]
    }
   ],
   "source": [
    "companyList = rawFile[rawFile.columns[0]]\n",
    "\n",
    "#q = pd.Series([s])\n",
    "rawCompanyCsvPath = \"~/1save/JpStock/CompanyNameList\" \n",
    "\n",
    "todayStr = datetime.datetime.today().strftime('%Y-%m-%d')\n",
    "fileName = \"CompanyNameList_\" + todayStr + \".csv\"\n",
    "\n",
    "rawFilePath = os.path.join(rawCompanyCsvPath, fileName)\n",
    "\n",
    "#print [11:20]\n",
    "\n",
    "companyList.to_csv(rawFilePath ,index=False , encoding=\"utf-8\")\n",
    "\n",
    "print(\"finished\")\n",
    "\n"
   ]
  },
  {
   "cell_type": "code",
   "execution_count": 4,
   "metadata": {},
   "outputs": [
    {
     "name": "stdout",
     "output_type": "stream",
     "text": [
      "   StockSymbol      Open      High       Low     Close      Vol      Amount\n",
      "1       1301-T   3125.00   3175.00   3120.00   3150.00    40700   128396500\n",
      "2       1305-T   1677.00   1689.00   1677.00   1686.00    93930   158349470\n",
      "3       1306-T   1656.00   1665.00   1653.00   1664.00  2383400  3959104700\n",
      "4       1308-T   1639.00   1649.00   1638.00   1647.00   310000   510064500\n",
      "5       1309-T  27400.00  27550.00  27210.00  27550.00      151     4146030\n",
      "6       1310-T    729.00    729.00    728.00    729.00       40       29150\n",
      "7       1311-T    742.00    746.00    742.00    746.00     4640     3452830\n",
      "8       1312-T  19960.00  19960.00  19960.00  19960.00        1       19960\n",
      "9       1313-T   2924.00   2924.00   2924.00   2924.00       50      146200\n",
      "10      1314-T       NaN       NaN       NaN       NaN        0           0\n"
     ]
    }
   ],
   "source": [
    "rawDailyTick = rawFile.copy()\n",
    "\n",
    "# df.drop(df.columns[[0,1,3]], axis=1, inplace=True)\n",
    "#ss = rawDailyTick.drop(rawDailyTick.columns[[1,2]], axis=1, inplace=True)\n",
    "\n",
    "rawDailyTick.pop(engNameList[1])  #用list 砍掉 col 比較安全\n",
    "rawDailyTick.pop(engNameList[2])  #這兩個 col 會有日文，目前我無法轉掉亂碼\n",
    "\n",
    "print(rawDailyTick[:10])\n",
    "\n",
    "rawDailyTickPath = \"~/1save/JpStock/RawDailyTick\"\n",
    "dailyTickFileName = \"RawDailyTick_\" + todayStr + \".csv\"\n",
    "\n",
    "rawFilePath = os.path.join(rawDailyTickPath, dailyTickFileName)\n",
    "\n",
    "rawDailyTick.to_csv(rawFilePath ,index=False , encoding=\"utf-8\")\n"
   ]
  }
 ],
 "metadata": {
  "kernelspec": {
   "display_name": "Python 2",
   "language": "python",
   "name": "python2"
  },
  "language_info": {
   "codemirror_mode": {
    "name": "ipython",
    "version": 2
   },
   "file_extension": ".py",
   "mimetype": "text/x-python",
   "name": "python",
   "nbconvert_exporter": "python",
   "pygments_lexer": "ipython2",
   "version": "2.7.13"
  }
 },
 "nbformat": 4,
 "nbformat_minor": 2
}
