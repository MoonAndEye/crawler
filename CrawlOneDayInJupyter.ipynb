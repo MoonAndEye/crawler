{
 "cells": [
  {
   "cell_type": "code",
   "execution_count": 1,
   "metadata": {},
   "outputs": [
    {
     "name": "stdout",
     "output_type": "stream",
     "text": [
      "   StockSymbol CompanyName StockExchangePlace      Open      High       Low  \\\n",
      "1       1301-T         �ɗm            ����1��   3175.00   3190.00   3160.00   \n",
      "2       1305-T      ETFTPX               ����   1700.00   1707.00   1699.00   \n",
      "3       1306-T     TOPIX��               ����   1679.00   1684.00   1674.00   \n",
      "4       1308-T      ���TPX               ����   1661.00   1667.00   1658.00   \n",
      "5       1309-T     ���50�A               ����  27600.00  28000.00  27560.00   \n",
      "6       1310-T  ETF��R�A30               ����    735.00    736.00    733.00   \n",
      "7       1311-T     TOPIX30               ����    745.00    751.00    743.00   \n",
      "8       1312-T  RN���^�R�A               ����  20000.00  20130.00  20000.00   \n",
      "9       1313-T    KODEX200               ����   3095.00   3095.00   2990.00   \n",
      "10      1314-T      ���V��               ����   1334.00   1334.00   1334.00   \n",
      "\n",
      "       Close      Vol      Amount  \n",
      "1    3185.00    50700   161201500  \n",
      "2    1699.00   849310  1445592220  \n",
      "3    1674.00  3431390  5763364440  \n",
      "4    1658.00   894300  1487023400  \n",
      "5   28000.00      885    24568560  \n",
      "6     733.00     4500     3308360  \n",
      "7     747.00     7610     5696650  \n",
      "8   20130.00       77     1541090  \n",
      "9    2990.00      330     1002450  \n",
      "10   1334.00     1200     1600800  \n",
      "Correct, go on.\n"
     ]
    }
   ],
   "source": [
    "#-*- coding: utf-8 -*-\n",
    "import urllib2\n",
    "import pandas as pd\n",
    "import datetime\n",
    "import os\n",
    "\n",
    "#target = \"~/3python/jpStockCrawler/stocks_2017-06-16.csv\"\n",
    "\n",
    "\n",
    "\n",
    "target = \"http://k-db.com/stocks/?download=csv\"\n",
    "\n",
    "#csvFile = urllib2.urlopen(target)\n",
    "#csvFile1 = csvFile.read()\n",
    "#s = csvFile1.decode('utf8')\n",
    "\n",
    "chtNameList = [\"個股代號\", \"日文名稱\", \"交易所在\", \"開盤\", \"最高\", \"最低\", \"收盤\" , \"成交株數\", \"成交金額\"]\n",
    "\n",
    "engNameList = [\"StockSymbol\", \"CompanyName\", \"StockExchangePlace\", \"Open\", \"High\", \"Low\",\"Close\", \"Vol\" ,\"Amount\"]\n",
    "rawFile = pd.read_csv(target, names = engNameList)\n",
    "\n",
    "rawFile = rawFile[1:]  #一定要把第一行去掉，因為我們加了自己的 header 所以要去掉\n",
    "\n",
    "\n",
    "print rawFile[:10]  #檢查一下第一行是不是 1301-T\n",
    "\n",
    "judgeFlag = \"1301-T\"\n",
    "\n",
    "test = rawFile[\"StockSymbol\"][1]\n",
    "#print test\n",
    "\n",
    "if judgeFlag == test:\n",
    "    print (\"Correct, go on.\")\n",
    "else:\n",
    "    print (\"Something wrong. First item should be 1301-T\")\n",
    "\n",
    "#print s\n"
   ]
  },
  {
   "cell_type": "code",
   "execution_count": 2,
   "metadata": {},
   "outputs": [
    {
     "name": "stdout",
     "output_type": "stream",
     "text": [
      "finished\n"
     ]
    }
   ],
   "source": [
    "companyList = rawFile[rawFile.columns[0]]\n",
    "\n",
    "#q = pd.Series([s])\n",
    "rawCompanyCsvPath = \"~/1save/JpStock/CompanyNameList\" \n",
    "\n",
    "todayStr = datetime.datetime.today().strftime('%Y-%m-%d')\n",
    "fileName = \"CompanyNameList_\" + todayStr + \".csv\"\n",
    "\n",
    "rawFilePath = os.path.join(rawCompanyCsvPath, fileName)\n",
    "\n",
    "#print [11:20]\n",
    "\n",
    "companyList.to_csv(rawFilePath ,index=False , encoding=\"utf-8\")\n",
    "\n",
    "print(\"finished\")\n",
    "\n"
   ]
  },
  {
   "cell_type": "code",
   "execution_count": 3,
   "metadata": {},
   "outputs": [
    {
     "name": "stdout",
     "output_type": "stream",
     "text": [
      "   StockSymbol      Open      High       Low     Close      Vol      Amount\n",
      "1       1301-T   3175.00   3190.00   3160.00   3185.00    50700   161201500\n",
      "2       1305-T   1700.00   1707.00   1699.00   1699.00   849310  1445592220\n",
      "3       1306-T   1679.00   1684.00   1674.00   1674.00  3431390  5763364440\n",
      "4       1308-T   1661.00   1667.00   1658.00   1658.00   894300  1487023400\n",
      "5       1309-T  27600.00  28000.00  27560.00  28000.00      885    24568560\n",
      "6       1310-T    735.00    736.00    733.00    733.00     4500     3308360\n",
      "7       1311-T    745.00    751.00    743.00    747.00     7610     5696650\n",
      "8       1312-T  20000.00  20130.00  20000.00  20130.00       77     1541090\n",
      "9       1313-T   3095.00   3095.00   2990.00   2990.00      330     1002450\n",
      "10      1314-T   1334.00   1334.00   1334.00   1334.00     1200     1600800\n"
     ]
    }
   ],
   "source": [
    "rawDailyTick = rawFile.copy()\n",
    "\n",
    "# df.drop(df.columns[[0,1,3]], axis=1, inplace=True)\n",
    "#ss = rawDailyTick.drop(rawDailyTick.columns[[1,2]], axis=1, inplace=True)\n",
    "\n",
    "rawDailyTick.pop(engNameList[1])  #用list 砍掉 col 比較安全\n",
    "rawDailyTick.pop(engNameList[2])  #這兩個 col 會有日文，目前我無法轉掉亂碼\n",
    "\n",
    "print(rawDailyTick[:10])\n",
    "\n",
    "rawDailyTickPath = \"~/1save/JpStock/RawDailyTick\"\n",
    "dailyTickFileName = \"RawDailyTick_\" + todayStr + \".csv\"\n",
    "\n",
    "rawFilePath = os.path.join(rawDailyTickPath, dailyTickFileName)\n",
    "\n",
    "rawDailyTick.to_csv(rawFilePath ,index=False , encoding=\"utf-8\")\n"
   ]
  }
 ],
 "metadata": {
  "kernelspec": {
   "display_name": "Python 2",
   "language": "python",
   "name": "python2"
  },
  "language_info": {
   "codemirror_mode": {
    "name": "ipython",
    "version": 2
   },
   "file_extension": ".py",
   "mimetype": "text/x-python",
   "name": "python",
   "nbconvert_exporter": "python",
   "pygments_lexer": "ipython2",
   "version": "2.7.13"
  }
 },
 "nbformat": 4,
 "nbformat_minor": 2
}
